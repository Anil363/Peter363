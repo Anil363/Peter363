{
  "nbformat": 4,
  "nbformat_minor": 0,
  "metadata": {
    "colab": {
      "name": "Peter.ipynb",
      "provenance": [],
      "toc_visible": true,
      "authorship_tag": "ABX9TyMD/GcqTAtaFwlpPIj6cayF",
      "include_colab_link": true
    },
    "kernelspec": {
      "name": "python3",
      "display_name": "Python 3"
    }
  },
  "cells": [
    {
      "cell_type": "markdown",
      "metadata": {
        "id": "view-in-github",
        "colab_type": "text"
      },
      "source": [
        "<a href=\"https://colab.research.google.com/github/Anil363/Peter363/blob/master/2.ipynb\" target=\"_parent\"><img src=\"https://colab.research.google.com/assets/colab-badge.svg\" alt=\"Open In Colab\"/></a>"
      ]
    },
    {
      "cell_type": "code",
      "metadata": {
        "id": "xfL8jIHrafi0",
        "colab_type": "code",
        "outputId": "fb08dcb9-8975-4814-c421-535ea6898eb5",
        "colab": {
          "base_uri": "https://localhost:8080/",
          "height": 119
        }
      },
      "source": [
        "import pandas as pd\n",
        "df=pd.read_csv(\"/content/sample_data/california_housing_test.csv\")\n",
        "print(df.iloc[[0,9,999]])"
      ],
      "execution_count": 11,
      "outputs": [
        {
          "output_type": "stream",
          "text": [
            "     longitude  latitude  ...  median_income  median_house_value\n",
            "0      -122.05     37.37  ...         6.6085            344700.0\n",
            "9      -118.02     34.08  ...         2.3333            164200.0\n",
            "999    -118.30     34.10  ...         1.7083            166700.0\n",
            "\n",
            "[3 rows x 9 columns]\n"
          ],
          "name": "stdout"
        }
      ]
    },
    {
      "cell_type": "code",
      "metadata": {
        "id": "OhxcSiaQj6Te",
        "colab_type": "code",
        "colab": {}
      },
      "source": [
        ""
      ],
      "execution_count": 0,
      "outputs": []
    }
  ]
}